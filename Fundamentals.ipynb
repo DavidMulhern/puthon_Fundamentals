{
 "cells": [
  {
   "cell_type": "markdown",
   "id": "a665fbd9",
   "metadata": {},
   "source": [
    "### This is a markdown cell\n",
    "\n",
    "<h1>Pyhton fundamentals</h1>\n",
    "\n",
    "***"
   ]
  },
  {
   "cell_type": "markdown",
   "id": "be651eeb",
   "metadata": {},
   "source": [
    "### Variables\n",
    "***"
   ]
  },
  {
   "cell_type": "code",
   "execution_count": 1,
   "id": "d1751e29",
   "metadata": {},
   "outputs": [],
   "source": [
    "# Integer\n",
    "i = 1\n",
    "\n",
    "# Float\n",
    "f = 1.0\n",
    "\n",
    "# String\n",
    "c = 'c'\n",
    "\n",
    "# String\n",
    "s = \"Hello world\"\n",
    "\n",
    "# Quotes in strings\n",
    "t = \"I can't believe it\"\n",
    "\n",
    "# Booleans\n",
    "b = True"
   ]
  },
  {
   "cell_type": "code",
   "execution_count": 2,
   "id": "b8f908d5",
   "metadata": {},
   "outputs": [
    {
     "data": {
      "text/plain": [
       "1"
      ]
     },
     "execution_count": 2,
     "metadata": {},
     "output_type": "execute_result"
    }
   ],
   "source": [
    "i"
   ]
  },
  {
   "cell_type": "code",
   "execution_count": 3,
   "id": "2348c511",
   "metadata": {},
   "outputs": [
    {
     "data": {
      "text/plain": [
       "1.0"
      ]
     },
     "execution_count": 3,
     "metadata": {},
     "output_type": "execute_result"
    }
   ],
   "source": [
    "f"
   ]
  },
  {
   "cell_type": "code",
   "execution_count": 4,
   "id": "695fa51a",
   "metadata": {},
   "outputs": [
    {
     "data": {
      "text/plain": [
       "2.0"
      ]
     },
     "execution_count": 4,
     "metadata": {},
     "output_type": "execute_result"
    }
   ],
   "source": [
    "i + f"
   ]
  },
  {
   "cell_type": "code",
   "execution_count": 5,
   "id": "971b38e9",
   "metadata": {},
   "outputs": [
    {
     "data": {
      "text/plain": [
       "2.0"
      ]
     },
     "execution_count": 5,
     "metadata": {},
     "output_type": "execute_result"
    }
   ],
   "source": [
    "f + f"
   ]
  },
  {
   "cell_type": "code",
   "execution_count": 6,
   "id": "50e7e4bd",
   "metadata": {},
   "outputs": [
    {
     "data": {
      "text/plain": [
       "str"
      ]
     },
     "execution_count": 6,
     "metadata": {},
     "output_type": "execute_result"
    }
   ],
   "source": [
    "type(t)"
   ]
  },
  {
   "cell_type": "code",
   "execution_count": 7,
   "id": "5b9fa251",
   "metadata": {},
   "outputs": [
    {
     "data": {
      "text/plain": [
       "\"I can't believe it\""
      ]
     },
     "execution_count": 7,
     "metadata": {},
     "output_type": "execute_result"
    }
   ],
   "source": [
    "t"
   ]
  },
  {
   "cell_type": "code",
   "execution_count": 8,
   "id": "647f398a",
   "metadata": {},
   "outputs": [
    {
     "data": {
      "text/plain": [
       "\"Hello worldI can't believe it\""
      ]
     },
     "execution_count": 8,
     "metadata": {},
     "output_type": "execute_result"
    }
   ],
   "source": [
    "s + t"
   ]
  },
  {
   "cell_type": "markdown",
   "id": "d88a1022",
   "metadata": {},
   "source": [
    "<br>\n",
    "\n",
    "# Conditionals\n",
    "***"
   ]
  },
  {
   "cell_type": "code",
   "execution_count": 9,
   "id": "5dfd3e48",
   "metadata": {},
   "outputs": [],
   "source": [
    "i = 15"
   ]
  },
  {
   "cell_type": "code",
   "execution_count": 10,
   "id": "3f1d0b38",
   "metadata": {},
   "outputs": [
    {
     "name": "stdout",
     "output_type": "stream",
     "text": [
      "15 is odd\n"
     ]
    }
   ],
   "source": [
    "if i < 0:\n",
    "    print(i, \"is negative\")\n",
    "elif i % 2 == 0:\n",
    "    print(i, \"is even\")\n",
    "    print(\"another statement. Watch indentation\")\n",
    "else:\n",
    "    print(i, \"is odd\")"
   ]
  },
  {
   "cell_type": "code",
   "execution_count": 11,
   "id": "788768a3",
   "metadata": {},
   "outputs": [
    {
     "name": "stdout",
     "output_type": "stream",
     "text": [
      "15 is odd\n"
     ]
    }
   ],
   "source": [
    "if i < 0:\n",
    "    print(i, \"is negative\")\n",
    "else:\n",
    "    if i % 2 == 0:\n",
    "        print(i, \"is even\")\n",
    "    else:\n",
    "        print (i, \"is odd\")"
   ]
  },
  {
   "cell_type": "markdown",
   "id": "a3f575ce",
   "metadata": {},
   "source": [
    "# Lists \n",
    "***"
   ]
  },
  {
   "cell_type": "code",
   "execution_count": 12,
   "id": "18996c2f",
   "metadata": {},
   "outputs": [],
   "source": [
    "r = [1, 2, 3]"
   ]
  },
  {
   "cell_type": "code",
   "execution_count": 13,
   "id": "0fe7b626",
   "metadata": {},
   "outputs": [
    {
     "data": {
      "text/plain": [
       "1"
      ]
     },
     "execution_count": 13,
     "metadata": {},
     "output_type": "execute_result"
    }
   ],
   "source": [
    "r[0]"
   ]
  },
  {
   "cell_type": "markdown",
   "id": "e8b9e618",
   "metadata": {},
   "source": [
    "<br>\n",
    "\n",
    "# Iteration\n",
    "\n",
    "***"
   ]
  },
  {
   "cell_type": "code",
   "execution_count": 14,
   "id": "8bd2138c",
   "metadata": {},
   "outputs": [
    {
     "name": "stdout",
     "output_type": "stream",
     "text": [
      "1\n",
      "2\n",
      "3\n",
      "1\n",
      "4\n",
      "9\n",
      "Thats all\n"
     ]
    }
   ],
   "source": [
    "for item in r:\n",
    "    print(item)\n",
    "for item in r:\n",
    "    print(item*item)\n",
    "print(\"Thats all\")"
   ]
  },
  {
   "cell_type": "code",
   "execution_count": 15,
   "id": "28acd5eb",
   "metadata": {},
   "outputs": [
    {
     "name": "stdout",
     "output_type": "stream",
     "text": [
      "10\n",
      "9\n",
      "8\n",
      "7\n",
      "6\n",
      "5\n",
      "4\n",
      "3\n",
      "2\n",
      "1\n"
     ]
    }
   ],
   "source": [
    "i = 10\n",
    "while i > 0:\n",
    "    print(i)\n",
    "    i = i -1"
   ]
  },
  {
   "cell_type": "code",
   "execution_count": 16,
   "id": "3a5b369c",
   "metadata": {},
   "outputs": [
    {
     "data": {
      "text/plain": [
       "range(0, 10)"
      ]
     },
     "execution_count": 16,
     "metadata": {},
     "output_type": "execute_result"
    }
   ],
   "source": [
    "range(10)"
   ]
  },
  {
   "cell_type": "code",
   "execution_count": 17,
   "id": "ce97768a",
   "metadata": {},
   "outputs": [
    {
     "data": {
      "text/plain": [
       "[0, 1, 2, 3, 4, 5, 6, 7, 8, 9]"
      ]
     },
     "execution_count": 17,
     "metadata": {},
     "output_type": "execute_result"
    }
   ],
   "source": [
    "list(range(10))\n",
    "# range function is a generator, we can wrap in a list to display all values"
   ]
  },
  {
   "cell_type": "code",
   "execution_count": 18,
   "id": "5a0fd2b7",
   "metadata": {},
   "outputs": [
    {
     "data": {
      "text/plain": [
       "[2, 4, 6, 8]"
      ]
     },
     "execution_count": 18,
     "metadata": {},
     "output_type": "execute_result"
    }
   ],
   "source": [
    "# Parameters are (start, up to, increments)\n",
    "list(range(2, 10, 2))"
   ]
  },
  {
   "cell_type": "code",
   "execution_count": 19,
   "id": "4f43dfc7",
   "metadata": {},
   "outputs": [
    {
     "name": "stdout",
     "output_type": "stream",
     "text": [
      "10\n",
      "9\n",
      "8\n",
      "7\n",
      "6\n",
      "5\n",
      "4\n",
      "3\n",
      "2\n",
      "1\n"
     ]
    }
   ],
   "source": [
    "# Parameters are (start, up to, increments)\n",
    "for i in range(10, 0, -1):\n",
    "    print(i)"
   ]
  },
  {
   "cell_type": "markdown",
   "id": "08aeeb3f",
   "metadata": {},
   "source": [
    "<br>\n",
    "\n",
    "# Functions\n",
    "\n",
    "***"
   ]
  },
  {
   "cell_type": "code",
   "execution_count": 20,
   "id": "47c034dc",
   "metadata": {},
   "outputs": [],
   "source": [
    "# Define function (def)\n",
    "def square(i):\n",
    "    return i * i"
   ]
  },
  {
   "cell_type": "code",
   "execution_count": 21,
   "id": "4745f7b4",
   "metadata": {},
   "outputs": [
    {
     "data": {
      "text/plain": [
       "81"
      ]
     },
     "execution_count": 21,
     "metadata": {},
     "output_type": "execute_result"
    }
   ],
   "source": [
    "square(9)"
   ]
  },
  {
   "cell_type": "code",
   "execution_count": 22,
   "id": "f9137403",
   "metadata": {},
   "outputs": [],
   "source": [
    "# If j is not supplied to the function, default of 2 is implemented \n",
    "def power(i, j=2):\n",
    "    result = 1\n",
    "    for k in range(j):\n",
    "        result = result * i\n",
    "    return result"
   ]
  },
  {
   "cell_type": "code",
   "execution_count": 23,
   "id": "90ea32ef",
   "metadata": {},
   "outputs": [
    {
     "data": {
      "text/plain": [
       "81"
      ]
     },
     "execution_count": 23,
     "metadata": {},
     "output_type": "execute_result"
    }
   ],
   "source": [
    "power(9)"
   ]
  },
  {
   "cell_type": "code",
   "execution_count": 24,
   "id": "8764a4b5",
   "metadata": {},
   "outputs": [
    {
     "data": {
      "text/plain": [
       "729"
      ]
     },
     "execution_count": 24,
     "metadata": {},
     "output_type": "execute_result"
    }
   ],
   "source": [
    "# 9*9*9\n",
    "power(9, 3)"
   ]
  },
  {
   "cell_type": "code",
   "execution_count": 25,
   "id": "f78c6be6",
   "metadata": {},
   "outputs": [
    {
     "data": {
      "text/plain": [
       "100"
      ]
     },
     "execution_count": 25,
     "metadata": {},
     "output_type": "execute_result"
    }
   ],
   "source": [
    "# 10^2\n",
    "10**2"
   ]
  }
 ],
 "metadata": {
  "kernelspec": {
   "display_name": "Python 3 (ipykernel)",
   "language": "python",
   "name": "python3"
  },
  "language_info": {
   "codemirror_mode": {
    "name": "ipython",
    "version": 3
   },
   "file_extension": ".py",
   "mimetype": "text/x-python",
   "name": "python",
   "nbconvert_exporter": "python",
   "pygments_lexer": "ipython3",
   "version": "3.9.7"
  }
 },
 "nbformat": 4,
 "nbformat_minor": 5
}
